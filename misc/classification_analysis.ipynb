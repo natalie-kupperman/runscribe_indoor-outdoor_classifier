{
 "cells": [
  {
   "cell_type": "code",
   "execution_count": 1,
   "metadata": {},
   "outputs": [],
   "source": [
    "# import dependencies\n",
    "import pandas as pd"
   ]
  },
  {
   "cell_type": "code",
   "execution_count": 2,
   "metadata": {},
   "outputs": [],
   "source": [
    "# read in csv treadmill and outdoor runs\n",
    "df = pd.read_csv(\"output/full_dataset.csv\")"
   ]
  },
  {
   "cell_type": "markdown",
   "metadata": {},
   "source": [
    "## Data Proprocessing Code"
   ]
  },
  {
   "cell_type": "code",
   "execution_count": 3,
   "metadata": {},
   "outputs": [
    {
     "data": {
      "text/plain": [
       "(183641, 33)"
      ]
     },
     "execution_count": 3,
     "metadata": {},
     "output_type": "execute_result"
    }
   ],
   "source": [
    "# verify (rows, columns) of dataframe\n",
    "df.shape"
   ]
  },
  {
   "cell_type": "code",
   "execution_count": 4,
   "metadata": {},
   "outputs": [
    {
     "data": {
      "text/plain": [
       "Index(['braking_gs', 'contact_ratio', 'contact_time', 'cycle_time', 'date',\n",
       "       'debug_1', 'debug_2', 'flight_ratio', 'flight_time', 'footstrike_type',\n",
       "       'footstrike_type_new', 'impact_gs', 'injury_status', 'laterality',\n",
       "       'max_pronation_velocity', 'medium', 'power',\n",
       "       'pronation_excursion_fs_mp', 'pronation_excursion_mp_to', 'shock',\n",
       "       'split_cycle_time', 'split_stride_pace', 'stance_excursion_fs_mp',\n",
       "       'stance_excursion_mp_to', 'step', 'step_length', 'step_rate',\n",
       "       'stride_angle', 'stride_length', 'stride_pace', 'subject_id',\n",
       "       'timestamp', 'walking'],\n",
       "      dtype='object')"
      ]
     },
     "execution_count": 4,
     "metadata": {},
     "output_type": "execute_result"
    }
   ],
   "source": [
    "df.columns"
   ]
  },
  {
   "cell_type": "code",
   "execution_count": 23,
   "metadata": {},
   "outputs": [
    {
     "data": {
      "text/plain": [
       "(183641, 26)"
      ]
     },
     "execution_count": 23,
     "metadata": {},
     "output_type": "execute_result"
    }
   ],
   "source": [
    "# remove date, debug_1, debug_2, power, subject_id, timestamp, walking\n",
    "total_df = df.filter(items = ['braking_gs', 'contact_ratio', 'contact_time', 'cycle_time', \n",
    "                                    'flight_ratio', 'flight_time', 'footstrike_type',\n",
    "                                    'footstrike_type_new', 'impact_gs', 'injury_status', 'laterality',\n",
    "                                    'max_pronation_velocity', 'medium',\n",
    "                                    'pronation_excursion_fs_mp', 'pronation_excursion_mp_to', 'shock',\n",
    "                                    'split_cycle_time', 'split_stride_pace', 'stance_excursion_fs_mp',\n",
    "                                    'stance_excursion_mp_to', 'step', 'step_length', 'step_rate',\n",
    "                                    'stride_angle', 'stride_length', 'stride_pace'])\n",
    "    \n",
    "total_df.shape"
   ]
  },
  {
   "cell_type": "code",
   "execution_count": 6,
   "metadata": {},
   "outputs": [
    {
     "name": "stdout",
     "output_type": "stream",
     "text": [
      "Missing values per column:\n",
      "braking_gs                   0\n",
      "contact_ratio                0\n",
      "contact_time                 0\n",
      "cycle_time                   0\n",
      "flight_ratio                 0\n",
      "flight_time                  0\n",
      "footstrike_type              0\n",
      "footstrike_type_new          0\n",
      "impact_gs                    0\n",
      "injury_status                0\n",
      "laterality                   0\n",
      "max_pronation_velocity       0\n",
      "medium                       0\n",
      "pronation_excursion_fs_mp    2\n",
      "pronation_excursion_mp_to    1\n",
      "shock                        0\n",
      "split_cycle_time             0\n",
      "split_stride_pace            0\n",
      "stance_excursion_fs_mp       0\n",
      "stance_excursion_mp_to       0\n",
      "step                         0\n",
      "step_length                  0\n",
      "step_rate                    0\n",
      "stride_angle                 0\n",
      "stride_length                0\n",
      "stride_pace                  0\n",
      "dtype: int64\n",
      "\n",
      "Missing values per row:\n",
      "0    0\n",
      "1    0\n",
      "2    0\n",
      "3    0\n",
      "4    0\n",
      "dtype: int64\n"
     ]
    }
   ],
   "source": [
    "# function to check for missing data\n",
    "def num_missing(x):\n",
    "  return sum(x.isnull())\n",
    "\n",
    "#Applying per column:\n",
    "print(\"Missing values per column:\")\n",
    "print(total_df.apply(num_missing, axis=0))\n",
    "\n",
    "#Applying per row:\n",
    "print(\"\\nMissing values per row:\")\n",
    "print(total_df.apply(num_missing, axis=1).head()) "
   ]
  },
  {
   "cell_type": "code",
   "execution_count": 7,
   "metadata": {},
   "outputs": [],
   "source": [
    "# remove observations with missing data (if any)\n",
    "total_df = total_df.dropna()"
   ]
  },
  {
   "cell_type": "markdown",
   "metadata": {},
   "source": [
    "## Classifier Code"
   ]
  },
  {
   "cell_type": "code",
   "execution_count": 8,
   "metadata": {},
   "outputs": [],
   "source": [
    "# import dependencies\n",
    "from sklearn.model_selection import train_test_split\n",
    "from sklearn.linear_model import LogisticRegression\n",
    "from sklearn import tree\n",
    "from sklearn.ensemble import RandomForestClassifier\n",
    "from sklearn import metrics\n",
    "from sklearn.metrics import roc_curve\n",
    "from sklearn.metrics import roc_auc_score\n",
    "from matplotlib import pyplot"
   ]
  },
  {
   "cell_type": "code",
   "execution_count": 9,
   "metadata": {},
   "outputs": [],
   "source": [
    "# set outcome target for classifiers\n",
    "target = total_df[\"medium\"]\n",
    "\n",
    "# replace strings with numbers\n",
    "target = target.replace('outdoor', 0)\n",
    "target = target.replace('treadmill', 1)\n",
    "target_names = [\"outdoor\", \"treadmill\"]\n",
    "\n",
    "# set data for classifers\n",
    "data = total_df.drop(\"medium\", axis=1)\n",
    "feature_names = data.columns"
   ]
  },
  {
   "cell_type": "code",
   "execution_count": 10,
   "metadata": {},
   "outputs": [],
   "source": [
    "# create dummy variables for categorical variables\n",
    "data = pd.get_dummies(data, columns = ['injury_status', 'laterality'])"
   ]
  },
  {
   "cell_type": "code",
   "execution_count": 11,
   "metadata": {},
   "outputs": [],
   "source": [
    "# split data into a train and test set\n",
    "X_train, X_test, y_train, y_test = train_test_split(data, target, random_state=42)"
   ]
  },
  {
   "cell_type": "code",
   "execution_count": 12,
   "metadata": {},
   "outputs": [
    {
     "name": "stdout",
     "output_type": "stream",
     "text": [
      "Model Score: 0.7335221084730995\n"
     ]
    }
   ],
   "source": [
    "# logistics regression\n",
    "logistic_regr = LogisticRegression(class_weight = 'balanced', solver = 'liblinear') #model parameters\n",
    "logistic_regr = logistic_regr.fit(X_train, y_train) #fit the model\n",
    "y_pred_log = logistic_regr.predict(X_test)\n",
    "\n",
    "print(f\"Model Score: {logistic_regr.score(X_test, y_test)}\")\n",
    "#print(f\"Accuracy Score: {logistic_regr.accuracy_score(y_test, y_pred_log)}\")"
   ]
  },
  {
   "cell_type": "code",
   "execution_count": 13,
   "metadata": {},
   "outputs": [
    {
     "name": "stdout",
     "output_type": "stream",
     "text": [
      "AUC: 0.844\n"
     ]
    }
   ],
   "source": [
    "# predict probabilities\n",
    "probs_log = logistic_regr.predict_proba(X_test)\n",
    "\n",
    "# keep probabilities for the positive outcome only\n",
    "probs_log = probs_log[:, 1]\n",
    "\n",
    "# calculate AUC\n",
    "auc_log = roc_auc_score(y_test, probs_log)\n",
    "print(f'AUC: {auc_log:.3f}')\n",
    "\n",
    "# calculate roc curve\n",
    "fpr_log, tpr_log, thresholds_log = roc_curve(y_test, probs_log)"
   ]
  },
  {
   "cell_type": "code",
   "execution_count": 14,
   "metadata": {},
   "outputs": [
    {
     "data": {
      "image/png": "[encoded data removed]",
      "text/plain": [
       "<Figure size 432x288 with 1 Axes>"
      ]
     },
     "metadata": {
      "needs_background": "light"
     },
     "output_type": "display_data"
    }
   ],
   "source": [
    "# plot no skill\n",
    "pyplot.plot([0, 1], [0, 1], linestyle='--')\n",
    "# plot the roc curve for the model\n",
    "pyplot.plot(fpr_log, tpr_log, marker='.')\n",
    "# show the plot\n",
    "pyplot.show()"
   ]
  },
  {
   "cell_type": "code",
   "execution_count": 15,
   "metadata": {},
   "outputs": [
    {
     "data": {
      "text/plain": [
       "0.9722718362012633"
      ]
     },
     "execution_count": 15,
     "metadata": {},
     "output_type": "execute_result"
    }
   ],
   "source": [
    "clf = tree.DecisionTreeClassifier()\n",
    "clf = clf.fit(X_train, y_train)\n",
    "clf.score(X_test, y_test)"
   ]
  },
  {
   "cell_type": "code",
   "execution_count": 16,
   "metadata": {},
   "outputs": [
    {
     "name": "stdout",
     "output_type": "stream",
     "text": [
      "AUC: 0.965\n"
     ]
    }
   ],
   "source": [
    "# predict probabilities\n",
    "probs_clf = clf.predict_proba(X_test)\n",
    "\n",
    "# keep probabilities for the positive outcome only\n",
    "probs_clf = probs_clf[:, 1]\n",
    "\n",
    "# calculate AUC\n",
    "auc_clf = roc_auc_score(y_test, probs_clf)\n",
    "print(f'AUC: {auc_clf:.3f}')\n",
    "\n",
    "# calculate roc curve\n",
    "fpr_clf, tpr_clf, thresholds_clf = roc_curve(y_test, probs_clf)"
   ]
  },
  {
   "cell_type": "code",
   "execution_count": 17,
   "metadata": {},
   "outputs": [
    {
     "data": {
      "image/png": "[encoded data removed]",
      "text/plain": [
       "<Figure size 432x288 with 1 Axes>"
      ]
     },
     "metadata": {
      "needs_background": "light"
     },
     "output_type": "display_data"
    }
   ],
   "source": [
    "# plot no skill\n",
    "pyplot.plot([0, 1], [0, 1], linestyle='--')\n",
    "# plot the roc curve for the model\n",
    "pyplot.plot(fpr_clf, tpr_clf, marker='.')\n",
    "# show the plot\n",
    "pyplot.show()"
   ]
  },
  {
   "cell_type": "code",
   "execution_count": 18,
   "metadata": {},
   "outputs": [
    {
     "data": {
      "text/plain": [
       "0.9872358963188848"
      ]
     },
     "execution_count": 18,
     "metadata": {},
     "output_type": "execute_result"
    }
   ],
   "source": [
    "from sklearn.ensemble import RandomForestClassifier\n",
    "rf = RandomForestClassifier(n_estimators=200, oob_score = True)\n",
    "rf = rf.fit(X_train, y_train)\n",
    "rf.score(X_test, y_test)"
   ]
  },
  {
   "cell_type": "code",
   "execution_count": 19,
   "metadata": {},
   "outputs": [
    {
     "name": "stdout",
     "output_type": "stream",
     "text": [
      "AUC:0.999\n"
     ]
    }
   ],
   "source": [
    "# predict probabilities\n",
    "probs_rf = rf.predict_proba(X_test)\n",
    "\n",
    "# keep probabilities for the positive outcome only\n",
    "probs_rf = probs_rf[:, 1]\n",
    "\n",
    "# calculate AUC\n",
    "auc_rf = roc_auc_score(y_test, probs_rf)\n",
    "print(f'AUC:{auc_rf:.3}')\n",
    "\n",
    "# calculate roc curve\n",
    "fpr_rf, tpr_rf, thresholds_rf = roc_curve(y_test, probs_rf)"
   ]
  },
  {
   "cell_type": "code",
   "execution_count": 20,
   "metadata": {},
   "outputs": [
    {
     "data": {
      "image/png": "[encoded data removed]",
      "text/plain": [
       "<Figure size 432x288 with 1 Axes>"
      ]
     },
     "metadata": {
      "needs_background": "light"
     },
     "output_type": "display_data"
    }
   ],
   "source": [
    "# plot no skill\n",
    "pyplot.plot([0, 1], [0, 1], linestyle='--')\n",
    "# plot the roc curve for the model\n",
    "pyplot.plot(fpr_rf, tpr_rf, marker='.')\n",
    "# show the plot\n",
    "pyplot.show()"
   ]
  },
  {
   "cell_type": "code",
   "execution_count": 21,
   "metadata": {},
   "outputs": [
    {
     "data": {
      "text/plain": [
       "[(0.09271530821774596, 'injury_status'),\n",
       " (0.09034623258137821, 'laterality'),\n",
       " (0.07531493636199198, 'max_pronation_velocity'),\n",
       " (0.07444377442562287, 'step_rate'),\n",
       " (0.060109396695842525, 'stance_excursion_mp_to'),\n",
       " (0.04886972237702819, 'split_stride_pace'),\n",
       " (0.046732493105534116, 'stance_excursion_fs_mp'),\n",
       " (0.04051965097734178, 'split_cycle_time'),\n",
       " (0.040153535230348786, 'pronation_excursion_mp_to'),\n",
       " (0.03894616081741134, 'cycle_time'),\n",
       " (0.037393264126526576, 'footstrike_type_new'),\n",
       " (0.032965000101394824, 'step'),\n",
       " (0.03214409613053955, 'shock'),\n",
       " (0.030962701721157414, 'stride_angle'),\n",
       " (0.02690447267880026, 'contact_ratio'),\n",
       " (0.023956584789889903, 'step_length'),\n",
       " (0.023786003660842995, 'flight_ratio'),\n",
       " (0.02119544436593152, 'footstrike_type'),\n",
       " (0.021163341706702768, 'contact_time'),\n",
       " (0.021139140810259246, 'stride_pace'),\n",
       " (0.021002866809677292, 'braking_gs'),\n",
       " (0.02085377042679361, 'flight_time'),\n",
       " (0.01866551106907819, 'stride_length'),\n",
       " (0.010683484544501269, 'pronation_excursion_fs_mp'),\n",
       " (0.010212274695435468, 'impact_gs')]"
      ]
     },
     "execution_count": 21,
     "metadata": {},
     "output_type": "execute_result"
    }
   ],
   "source": [
    "sorted(zip(rf.feature_importances_, feature_names), reverse=True)"
   ]
  },
  {
   "cell_type": "code",
   "execution_count": 22,
   "metadata": {},
   "outputs": [
    {
     "ename": "TypeError",
     "evalue": "'DataFrame' object is not callable",
     "output_type": "error",
     "traceback": [
      "\u001b[0;31m---------------------------------------------------------------------------\u001b[0m",
      "\u001b[0;31mTypeError\u001b[0m                                 Traceback (most recent call last)",
      "\u001b[0;32m<ipython-input-22-406e65f1cf79>\u001b[0m in \u001b[0;36m<module>\u001b[0;34m\u001b[0m\n\u001b[1;32m      8\u001b[0m                                               \u001b[0;34m'split_cycle_time'\u001b[0m\u001b[0;34m,\u001b[0m \u001b[0;34m'split_stride_pace'\u001b[0m\u001b[0;34m,\u001b[0m \u001b[0;34m'stance_excursion_fs_mp'\u001b[0m\u001b[0;34m,\u001b[0m\u001b[0;34m\u001b[0m\u001b[0;34m\u001b[0m\u001b[0m\n\u001b[1;32m      9\u001b[0m                                               \u001b[0;34m'stance_excursion_mp_to'\u001b[0m\u001b[0;34m,\u001b[0m \u001b[0;34m'step_length'\u001b[0m\u001b[0;34m,\u001b[0m \u001b[0;34m'step_rate'\u001b[0m\u001b[0;34m,\u001b[0m\u001b[0;34m\u001b[0m\u001b[0;34m\u001b[0m\u001b[0m\n\u001b[0;32m---> 10\u001b[0;31m                                               'stride_angle', 'stride_pace'])\n\u001b[0m",
      "\u001b[0;31mTypeError\u001b[0m: 'DataFrame' object is not callable"
     ]
    }
   ],
   "source": [
    "# take out step, laterality, injury status, stride length, shock, footstrike type\n",
    "total_first_filter = total_df(items = ['braking_gs', 'contact_ratio', \n",
    "                                              'contact_time', 'cycle_time', \n",
    "                                              'flight_ratio', 'flight_time',\n",
    "                                              'footstrike_type_new', 'impact_gs', \n",
    "                                              'max_pronation_velocity', 'medium',\n",
    "                                              'pronation_excursion_fs_mp', 'pronation_excursion_mp_to',\n",
    "                                              'split_cycle_time', 'split_stride_pace', 'stance_excursion_fs_mp',\n",
    "                                              'stance_excursion_mp_to', 'step_length', 'step_rate',\n",
    "                                              'stride_angle', 'stride_pace'])\n"
   ]
  },
  {
   "cell_type": "code",
   "execution_count": null,
   "metadata": {},
   "outputs": [],
   "source": [
    "target2 = total_first_filter[\"medium\"]\n",
    "target_names2 = [\"outdoor\", \"treadmill\"]\n",
    "\n",
    "data2 = total_first_filter.drop(\"medium\", axis=1)\n",
    "feature_names2 = data.columns"
   ]
  },
  {
   "cell_type": "code",
   "execution_count": null,
   "metadata": {},
   "outputs": [],
   "source": [
    "X_train2, X_test2, y_train2, y_test2 = train_test_split(data2, target2, random_state=42)"
   ]
  },
  {
   "cell_type": "code",
   "execution_count": null,
   "metadata": {},
   "outputs": [],
   "source": [
    "from sklearn.linear_model import LogisticRegression\n",
    "logistic_regr2 = LogisticRegression(class_weight = 'balanced', solver = 'liblinear')\n",
    "logistic_regr2 = logistic_regr2.fit(X_train, y_train)\n",
    "logistic_regr2.score(X_test2, y_test2)"
   ]
  },
  {
   "cell_type": "code",
   "execution_count": null,
   "metadata": {},
   "outputs": [],
   "source": [
    "clf2 = tree.DecisionTreeClassifier()\n",
    "clf2 = clf.fit(X_train2, y_train2)\n",
    "clf2.score(X_test2, y_test2)"
   ]
  },
  {
   "cell_type": "code",
   "execution_count": null,
   "metadata": {},
   "outputs": [],
   "source": [
    "rf = RandomForestClassifier(n_estimators=200, class_weight = 'balanced', oob_score = True)\n",
    "rf = rf.fit(X_train, y_train)\n",
    "rf.score(X_test, y_test)"
   ]
  },
  {
   "cell_type": "code",
   "execution_count": null,
   "metadata": {},
   "outputs": [],
   "source": [
    "from sklearn import metrics\n",
    "y_pred = rf.predict(X_test)\n",
    "print(\"Accuracy\", metrics.accuracy_score(y_test, y_pred))\n"
   ]
  },
  {
   "cell_type": "code",
   "execution_count": null,
   "metadata": {},
   "outputs": [],
   "source": [
    "y_pred_proba = rf.predict_proba(X_test)[:,1]\n",
    "fpr, tpr, _ = metrics.roc_curve(y_test, y_pred_proba)\n",
    "auc = metrics.roc_auc_score(y_test, y_pred_proba)\n",
    "plt.plot(fpr,tpr,label=\"data 1, auc=\"+str(auc))\n",
    "plt.legend(loc=4)\n",
    "plt.show()"
   ]
  },
  {
   "cell_type": "code",
   "execution_count": null,
   "metadata": {},
   "outputs": [],
   "source": [
    "import sklearn.metrics as metrics\n",
    "# calculate the fpr and tpr for all thresholds of the classification\n",
    "probs = rf.predict_proba(X_test)\n",
    "preds = probs[:,1]\n",
    "fpr, tpr, threshold = metrics.roc_curve(y_test, preds)\n",
    "roc_auc = metrics.auc(fpr, tpr)\n",
    "\n",
    "# method I: plt\n",
    "import matplotlib.pyplot as plt\n",
    "plt.title('Receiver Operating Characteristic')\n",
    "plt.plot(fpr, tpr, 'b', label = 'AUC = %0.2f' % roc_auc)\n",
    "plt.legend(loc = 'lower right')\n",
    "plt.plot([0, 1], [0, 1],'r--')\n",
    "plt.xlim([0, 1])\n",
    "plt.ylim([0, 1])\n",
    "plt.ylabel('True Positive Rate')\n",
    "plt.xlabel('False Positive Rate')\n",
    "plt.show()"
   ]
  },
  {
   "cell_type": "code",
   "execution_count": null,
   "metadata": {},
   "outputs": [],
   "source": [
    "sorted(zip(rf.feature_importances_, feature_names), reverse=True)"
   ]
  },
  {
   "cell_type": "code",
   "execution_count": null,
   "metadata": {},
   "outputs": [],
   "source": [
    "# remove bottom half (9 features)\n",
    "total_second_filter = total_df.filter(items = ['contact_time', 'footstrike_type_new', \n",
    "                                               'max_pronation_velocity', 'medium',\n",
    "                                               'pronation_excursion_fs_mp', 'pronation_excursion_mp_to',\n",
    "                                               'split_cycle_time', 'split_stride_pace', 'stance_excursion_fs_mp',\n",
    "                                               'stance_excursion_mp_to', 'step_length', 'stride_pace'])\n",
    "    \n",
    "total_second_filter.shape"
   ]
  },
  {
   "cell_type": "code",
   "execution_count": null,
   "metadata": {},
   "outputs": [],
   "source": [
    "target = total_second_filter[\"medium\"]\n",
    "target_names = [\"outdoor\", \"treadmill\"]\n",
    "\n",
    "data = total_second_filter.drop(\"medium\", axis=1)\n",
    "feature_names = data.columns"
   ]
  },
  {
   "cell_type": "code",
   "execution_count": null,
   "metadata": {},
   "outputs": [],
   "source": [
    "X_train, X_test, y_train, y_test = train_test_split(data, target)"
   ]
  },
  {
   "cell_type": "code",
   "execution_count": null,
   "metadata": {},
   "outputs": [],
   "source": [
    "clf = tree.DecisionTreeClassifier()\n",
    "clf = clf.fit(X_train, y_train)\n",
    "clf.score(X_test, y_test)"
   ]
  },
  {
   "cell_type": "code",
   "execution_count": null,
   "metadata": {},
   "outputs": [],
   "source": [
    "rf = RandomForestClassifier(n_estimators=100, oob_score = True)\n",
    "rf = rf.fit(X_train, y_train)\n",
    "rf.score(X_test, y_test)"
   ]
  },
  {
   "cell_type": "code",
   "execution_count": null,
   "metadata": {},
   "outputs": [],
   "source": [
    "sorted(zip(rf.feature_importances_, feature_names), reverse=True)"
   ]
  },
  {
   "cell_type": "code",
   "execution_count": null,
   "metadata": {},
   "outputs": [],
   "source": [
    "# top 5 clinical\n",
    "total_df_3 = total_df.filter(items = ['braking_gs', 'contact_ratio', 'contact_time', 'cycle_time', \n",
    "                                    'flight_ratio', 'flight_time', 'footstrike_type',\n",
    "                                    'footstrike_type_new', 'impact_gs', 'injury_status', 'laterality',\n",
    "                                    'max_pronation_velocity', 'medium',\n",
    "                                    'pronation_excursion_fs_mp', 'pronation_excursion_mp_to', 'shock',\n",
    "                                    'split_cycle_time', 'split_stride_pace', 'stance_excursion_fs_mp',\n",
    "                                    'stance_excursion_mp_to', 'step', 'step_length', 'step_rate',\n",
    "                                    'stride_angle', 'stride_length', 'stride_pace'])\n",
    "    \n",
    "total_df.shape"
   ]
  },
  {
   "cell_type": "code",
   "execution_count": null,
   "metadata": {},
   "outputs": [],
   "source": []
  },
  {
   "cell_type": "code",
   "execution_count": null,
   "metadata": {},
   "outputs": [],
   "source": []
  },
  {
   "cell_type": "code",
   "execution_count": null,
   "metadata": {},
   "outputs": [],
   "source": []
  }
 ],
 "metadata": {
  "kernelspec": {
   "display_name": "Python 3",
   "language": "python",
   "name": "python3"
  },
  "language_info": {
   "codemirror_mode": {
    "name": "ipython",
    "version": 3
   },
   "file_extension": ".py",
   "mimetype": "text/x-python",
   "name": "python",
   "nbconvert_exporter": "python",
   "pygments_lexer": "ipython3",
   "version": "3.7.3"
  }
 },
 "nbformat": 4,
 "nbformat_minor": 2
}
