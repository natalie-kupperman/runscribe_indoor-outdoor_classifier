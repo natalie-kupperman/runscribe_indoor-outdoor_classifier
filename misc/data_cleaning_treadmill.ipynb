{
 "cells": [
  {
   "cell_type": "markdown",
   "metadata": {},
   "source": [
    "## Runscribe: Comparison of Data on Treadmill & Outdoors\n",
    "\n",
    "### data cleaning code"
   ]
  },
  {
   "cell_type": "code",
   "execution_count": 1,
   "metadata": {},
   "outputs": [],
   "source": [
    "# import dependencies\n",
    "import pandas as pd"
   ]
  },
  {
   "cell_type": "markdown",
   "metadata": {},
   "source": [
    "#### 20501, RS #12, competitive adult\n",
    "* note that run on 2018.10.06 was a two part treadmill workout in fitness class"
   ]
  },
  {
   "cell_type": "code",
   "execution_count": 2,
   "metadata": {},
   "outputs": [],
   "source": [
    "# read in csv's\n",
    "rs_012_20181005_L_df = pd.read_csv(\"data/treadmill/0012_L_20181005.csv\")\n",
    "rs_012_20181005_R_df = pd.read_csv(\"data/treadmill/0012_R_20181005.csv\")\n",
    "rs_012_20181006_L_1_df = pd.read_csv(\"data/treadmill/0012_L_20181006_1.csv\")\n",
    "rs_012_20181006_R_1_df = pd.read_csv(\"data/treadmill/0012_R_20181006_1.csv\")\n",
    "rs_012_20181006_L_2_df = pd.read_csv(\"data/treadmill/0012_L_20181006_2.csv\")\n",
    "rs_012_20181006_R_2_df = pd.read_csv(\"data/treadmill/0012_R_20181006_2.csv\")\n",
    "\n",
    "# add laterality and date tags\n",
    "rs_012_20181005_L_df['laterality'] = 'left'\n",
    "rs_012_20181005_L_df['date'] = '2018-10-05'\n",
    "\n",
    "# add laterality and date tags\n",
    "rs_012_20181005_R_df['laterality'] = 'right'\n",
    "rs_012_20181005_R_df['date'] = '2018-10-05'\n",
    "\n",
    "rs_012_20181006_L_1_df['laterality'] = 'left'\n",
    "rs_012_20181006_L_1_df['date'] = '2018-10-06'\n",
    "\n",
    "rs_012_20181006_R_1_df['laterality'] = 'right'\n",
    "rs_012_20181006_R_1_df['date'] = '2018-10-06'\n",
    "\n",
    "rs_012_20181006_L_2_df['laterality'] = 'left'\n",
    "rs_012_20181006_L_2_df['date'] = '2018-10-06'\n",
    "\n",
    "rs_012_20181006_R_2_df['laterality'] = 'right'\n",
    "rs_012_20181006_R_2_df['date'] = '2018-10-06'\n",
    "\n",
    "# merge RS 012 dataframes for 2018-10-05\n",
    "rs_012_df = pd.concat([rs_012_20181005_L_df, rs_012_20181005_R_df,\n",
    "                       rs_012_20181006_L_1_df, rs_012_20181006_R_1_df,\n",
    "                       rs_012_20181006_L_2_df, rs_012_20181006_R_2_df])\n",
    "\n",
    "# add other metrics to dataframe\n",
    "rs_012_df['injury_status'] = 'healthy'\n",
    "rs_012_df['subject_id'] = '012'"
   ]
  },
  {
   "cell_type": "markdown",
   "metadata": {},
   "source": [
    "#### H001, RS #004, healthy"
   ]
  },
  {
   "cell_type": "code",
   "execution_count": 3,
   "metadata": {},
   "outputs": [],
   "source": [
    "# read in csv's\n",
    "rs_004_20180403_L_df = pd.read_csv(\"data/treadmill/004_L_20180403.csv\")\n",
    "rs_004_20180403_R_df = pd.read_csv(\"data/treadmill/004_R_20180403.csv\")\n",
    "rs_004_20180407_L_df = pd.read_csv(\"data/treadmill/004_L_20180407.csv\")\n",
    "rs_004_20180407_R_df = pd.read_csv(\"data/treadmill/004_R_20180407.csv\")\n",
    "\n",
    "# add laterality and date tags\n",
    "rs_004_20180403_L_df['laterality'] = 'left'\n",
    "rs_004_20180403_L_df['date'] = '2018-04-03'\n",
    "\n",
    "rs_004_20180403_R_df['laterality'] = 'right'\n",
    "rs_004_20180403_R_df['date'] = '2018-04-03'\n",
    "\n",
    "rs_004_20180407_L_df['laterality'] = 'left'\n",
    "rs_004_20180407_L_df['date'] = '2018-04-07'\n",
    "\n",
    "rs_004_20180407_R_df['laterality'] = 'right'\n",
    "rs_004_20180407_R_df['date'] = '2018-04-07'\n",
    "\n",
    "# merge runs\n",
    "rs_004_df = pd.concat([rs_004_20180403_L_df, rs_004_20180403_R_df,\n",
    "                       rs_004_20180407_L_df, rs_004_20180407_R_df])\n",
    "\n",
    "# add other metrics to dataframe\n",
    "rs_004_df['injury_status'] = 'healthy'\n",
    "rs_004_df['subject_id'] = '004'"
   ]
  },
  {
   "cell_type": "markdown",
   "metadata": {},
   "source": [
    "#### 20501, RS #16, ERLLP\n",
    "* note: on 2018.04.13 only (L) Runscribe pod was collecting data during run"
   ]
  },
  {
   "cell_type": "code",
   "execution_count": 5,
   "metadata": {},
   "outputs": [],
   "source": [
    "# read in csv's\n",
    "rs_016_20180412_L_df = pd.read_csv(\"data/treadmill/016_L_20180412.csv\")\n",
    "rs_016_20180412_R_df = pd.read_csv(\"data/treadmill/016_R_20180412.csv\")\n",
    "rs_016_20180413_L_df = pd.read_csv(\"data/treadmill/016_L_20180413.csv\")\n",
    "rs_016_20180415_L_df = pd.read_csv(\"data/treadmill/016_L_20180415.csv\")\n",
    "rs_016_20180415_R_df = pd.read_csv(\"data/treadmill/016_R_20180415.csv\")\n",
    "\n",
    "# add laterality and date tags\n",
    "rs_016_20180412_L_df['laterality'] = 'left'\n",
    "rs_016_20180412_L_df['date'] = '2018-04-12'\n",
    "\n",
    "rs_016_20180412_R_df['laterality'] = 'right'\n",
    "rs_016_20180412_R_df['date'] = '2018-04-12'\n",
    "\n",
    "rs_016_20180413_L_df['laterality'] = 'left'\n",
    "rs_016_20180413_L_df['date'] = '2018-04-13'\n",
    "\n",
    "rs_016_20180415_L_df['laterality'] = 'left'\n",
    "rs_016_20180415_L_df['date'] = '2018-04-15'\n",
    "\n",
    "rs_016_20180415_R_df['laterality'] = 'right'\n",
    "rs_016_20180415_R_df['date'] = '2018-04-15'\n",
    "\n",
    "# merge runs\n",
    "rs_016_df = pd.concat([rs_016_20180412_L_df, rs_016_20180412_R_df,\n",
    "                       rs_016_20180415_L_df, rs_016_20180415_R_df,\n",
    "                       rs_016_20180415_L_df, rs_016_20180415_R_df])\n",
    "\n",
    "# add other metrics to dataframe\n",
    "rs_016_df['injury_status'] = 'erllp'\n",
    "rs_016_df['subject_id'] = '016'"
   ]
  },
  {
   "cell_type": "markdown",
   "metadata": {},
   "source": [
    "#### H011, RS #023, healthy"
   ]
  },
  {
   "cell_type": "code",
   "execution_count": 6,
   "metadata": {},
   "outputs": [],
   "source": [
    "# read in csv's\n",
    "rs_023_20180425_L_df = pd.read_csv(\"data/treadmill/023_L_20180425.csv\")\n",
    "rs_023_20180425_R_df = pd.read_csv(\"data/treadmill/023_R_20180425.csv\")\n",
    "\n",
    "# add laterality and date tags\n",
    "rs_023_20180425_L_df['laterality'] = 'left'\n",
    "rs_023_20180425_L_df['date'] = '2018-04-25'\n",
    "rs_023_20180425_L_df.head()\n",
    "\n",
    "# add laterality and date tags\n",
    "rs_023_20180425_R_df['laterality'] = 'right'\n",
    "rs_023_20180425_R_df['date'] = '2018-04-25'\n",
    "rs_023_20180425_R_df.head()\n",
    "\n",
    "# merge sides\n",
    "rs_023_df = pd.concat([rs_023_20180425_L_df, rs_023_20180425_R_df])\n",
    "\n",
    "# add other metrics to dataframe\n",
    "rs_023_df['injury_status'] = 'healthy'\n",
    "rs_023_df['subject_id'] = '023'\n"
   ]
  },
  {
   "cell_type": "markdown",
   "metadata": {},
   "source": [
    "#### 20501, RS027, ERLLP"
   ]
  },
  {
   "cell_type": "code",
   "execution_count": 7,
   "metadata": {},
   "outputs": [],
   "source": [
    "# read in csv's\n",
    "rs_027_20180530_L_df = pd.read_csv(\"data/treadmill/027_L_20180530.csv\")\n",
    "rs_027_20180530_R_df = pd.read_csv(\"data/treadmill/027_R_20180530.csv\")\n",
    "\n",
    "# add laterality and date tags\n",
    "rs_027_20180530_L_df['laterality'] = 'left'\n",
    "rs_027_20180530_L_df['date'] = '2018-05-30'\n",
    "rs_027_20180530_L_df.head()\n",
    "\n",
    "# add 'laterality', 'date', and 'number of run that day' tag\n",
    "rs_027_20180530_R_df['laterality'] = 'right'\n",
    "rs_027_20180530_R_df['date'] = '2018-05-30'\n",
    "rs_027_20180530_R_df.head()\n",
    "\n",
    "# merge sides\n",
    "rs_027_df = pd.concat([rs_027_20180530_L_df, rs_027_20180530_R_df])\n",
    "\n",
    "# add other metrics to dataframe\n",
    "rs_027_df['injury_status'] = 'erllp'\n",
    "rs_027_df['subject_id'] = '027'"
   ]
  },
  {
   "cell_type": "code",
   "execution_count": 8,
   "metadata": {},
   "outputs": [
    {
     "data": {
      "text/plain": [
       "(46571, 33)"
      ]
     },
     "execution_count": 8,
     "metadata": {},
     "output_type": "execute_result"
    }
   ],
   "source": [
    "treadmill_df = pd.concat([rs_004_df, rs_012_df, \n",
    "                          rs_016_df, rs_023_df,\n",
    "                          rs_027_df])\n",
    "\n",
    "treadmill_df['medium'] = 'treadmill'\n",
    "treadmill_df.shape"
   ]
  },
  {
   "cell_type": "code",
   "execution_count": 9,
   "metadata": {},
   "outputs": [],
   "source": [
    "# Export to csv\n",
    "treadmill_df.to_csv(\"output/treadmill_df.csv\", index = False)"
   ]
  },
  {
   "cell_type": "markdown",
   "metadata": {},
   "source": [
    "data cleaning code - outdoor running¶\n"
   ]
  },
  {
   "cell_type": "markdown",
   "metadata": {},
   "source": [
    "20501, RS #12, competitive adult"
   ]
  },
  {
   "cell_type": "code",
   "execution_count": 10,
   "metadata": {},
   "outputs": [],
   "source": [
    "# read in csv's\n",
    "rs_012_20181001_L_df = pd.read_csv(\"data/outdoor/012_L_20181001.csv\")\n",
    "rs_012_20181001_R_df = pd.read_csv(\"data/outdoor/012_R_20181001.csv\")\n",
    "rs_012_20181001_L_2_df = pd.read_csv(\"data/outdoor/012_L_20181001_extra.csv\")\n",
    "rs_012_20181001_R_2_df = pd.read_csv(\"data/outdoor/012_R_20181001_extra.csv\")\n",
    "rs_012_20181002_L_df = pd.read_csv(\"data/outdoor/012_L_20181002.csv\")\n",
    "rs_012_20181003_L_df = pd.read_csv(\"data/outdoor/012_L_20181003.csv\")\n",
    "rs_012_20181003_R_df = pd.read_csv(\"data/outdoor/012_R_20181003.csv\")\n",
    "rs_012_20181004_L_df = pd.read_csv(\"data/outdoor/012_L_20181004.csv\")\n",
    "rs_012_20181004_R_df = pd.read_csv(\"data/outdoor/012_R_20181004.csv\")\n",
    "\n",
    "# add laterality and date tags\n",
    "rs_012_20181001_L_df['laterality'] = 'left'\n",
    "rs_012_20181001_L_df['date'] = '2018-10-01'\n",
    "\n",
    "rs_012_20181001_R_df['laterality'] = 'right'\n",
    "rs_012_20181001_R_df['date'] = '2018-10-01'\n",
    "\n",
    "rs_012_20181001_L_2_df['laterality'] = 'left'\n",
    "rs_012_20181001_L_2_df['date'] = '2018-10-01'\n",
    "\n",
    "rs_012_20181001_R_df['laterality'] = 'right'\n",
    "rs_012_20181001_R_df['date'] = '2018-10-01'\n",
    "\n",
    "rs_012_20181002_L_df['laterality'] = 'left'\n",
    "rs_012_20181002_L_df['date'] = '2018-10-02'\n",
    "\n",
    "rs_012_20181003_L_df['laterality'] = 'left'\n",
    "rs_012_20181003_L_df['date'] = '2018-10-03'\n",
    "\n",
    "rs_012_20181003_R_df['laterality'] = 'right'\n",
    "rs_012_20181003_R_df['date'] = '2018-10-03'\n",
    "\n",
    "rs_012_20181004_L_df['laterality'] = 'left'\n",
    "rs_012_20181004_L_df['date'] = '2018-10-04'\n",
    "\n",
    "rs_012_20181004_R_df['laterality'] = 'right'\n",
    "rs_012_20181004_R_df['date'] = '2018-10-04'\n",
    "\n",
    "rs_012_df = pd.concat([rs_012_20181001_L_df, rs_012_20181001_R_df,\n",
    "                       rs_012_20181001_L_2_df, rs_012_20181001_R_2_df, \n",
    "                       rs_012_20181002_L_df,\n",
    "                       rs_012_20181003_L_df, rs_012_20181003_R_df,\n",
    "                       rs_012_20181004_L_df, rs_012_20181004_R_df], sort = True)\n",
    "\n",
    "# add other metrics to dataframe\n",
    "rs_012_df['injury_status'] = 'healthy'\n",
    "rs_012_df['subject_id'] = '012'"
   ]
  },
  {
   "cell_type": "markdown",
   "metadata": {},
   "source": [
    "H001, RS #004, healthy"
   ]
  },
  {
   "cell_type": "code",
   "execution_count": 11,
   "metadata": {},
   "outputs": [],
   "source": [
    "# read in csv's\n",
    "rs_004_20180330_L_df = pd.read_csv(\"data/outdoor/004_L_20180330.csv\")\n",
    "rs_004_20180330_R_df = pd.read_csv(\"data/outdoor/004_R_20180330.csv\")\n",
    "rs_004_20180405_L_df = pd.read_csv(\"data/outdoor/004_L_20180405.csv\")\n",
    "rs_004_20180405_R_df = pd.read_csv(\"data/outdoor/004_R_20180405.csv\")\n",
    "\n",
    "# add laterality and date tags\n",
    "rs_004_20180330_L_df['laterality'] = 'left'\n",
    "rs_004_20180330_L_df['date'] = '2018-03-30'\n",
    "\n",
    "rs_004_20180330_R_df['laterality'] = 'right'\n",
    "rs_004_20180330_R_df['date'] = '2018-03-30'\n",
    "\n",
    "rs_004_20180405_L_df['laterality'] = 'left'\n",
    "rs_004_20180405_L_df['date'] = '2018-04-05'\n",
    "\n",
    "rs_004_20180405_R_df['laterality'] = 'right'\n",
    "rs_004_20180405_R_df['date'] = '2018-04-05'\n",
    "\n",
    "rs_004_df = pd.concat([rs_004_20180330_R_df, rs_004_20180330_L_df,\n",
    "                       rs_004_20180405_R_df, rs_004_20180405_R_df])\n",
    "\n",
    "# add other metrics to dataframe\n",
    "rs_004_df['injury_status'] = 'healthy'\n",
    "rs_004_df['subject_id'] = '004'"
   ]
  },
  {
   "cell_type": "markdown",
   "metadata": {},
   "source": [
    "20501, RS #16, ERLLP"
   ]
  },
  {
   "cell_type": "code",
   "execution_count": 12,
   "metadata": {},
   "outputs": [],
   "source": [
    "# read in csv's\n",
    "rs_016_20180412_L_df = pd.read_csv(\"data/outdoor/016_L_20180412.csv\")\n",
    "rs_016_20180412_R_df = pd.read_csv(\"data/outdoor/016_R_20180412.csv\")\n",
    "rs_016_20180416_L_df = pd.read_csv(\"data/outdoor/016_L_20180416.csv\")\n",
    "rs_016_20180416_R_df = pd.read_csv(\"data/outdoor/016_R_20180416.csv\")\n",
    "\n",
    "# add laterality and date tags\n",
    "rs_016_20180412_L_df['laterality'] = 'left'\n",
    "rs_016_20180412_L_df['date'] = '2018-04-12'\n",
    "\n",
    "rs_016_20180412_R_df['laterality'] = 'right'\n",
    "rs_016_20180412_R_df['date'] = '2018-04-12'\n",
    "\n",
    "rs_016_20180416_L_df['laterality'] = 'left'\n",
    "rs_016_20180416_L_df['date'] = '2018-04-16'\n",
    "\n",
    "rs_016_20180416_R_df['laterality'] = 'right'\n",
    "rs_016_20180416_R_df['date'] = '2018-04-16'\n",
    "\n",
    "rs_016_df = pd.concat([rs_016_20180412_L_df, rs_016_20180412_R_df,\n",
    "                       rs_016_20180416_L_df, rs_016_20180416_R_df])\n",
    "\n",
    "# add other metrics to dataframe\n",
    "rs_016_df['injury_status'] = 'erllp'\n",
    "rs_016_df['subject_id'] = '016'"
   ]
  },
  {
   "cell_type": "markdown",
   "metadata": {},
   "source": [
    "H011, RS #023, healthy"
   ]
  },
  {
   "cell_type": "code",
   "execution_count": 13,
   "metadata": {},
   "outputs": [],
   "source": [
    "# read in csv's\n",
    "rs_023_20180424_L_df = pd.read_csv(\"data/outdoor/023_L_20180424.csv\")\n",
    "rs_023_20180424_R_df = pd.read_csv(\"data/outdoor/023_R_20180424.csv\")\n",
    "rs_023_20180426_L_df = pd.read_csv(\"data/outdoor/023_L_20180426.csv\")\n",
    "rs_023_20180426_R_df = pd.read_csv(\"data/outdoor/023_R_20180426.csv\")\n",
    "rs_023_20180430_L_df = pd.read_csv(\"data/outdoor/023_L_20180430.csv\")\n",
    "rs_023_20180430_R_df = pd.read_csv(\"data/outdoor/023_R_20180430.csv\")\n",
    "\n",
    "# add laterality and date tags\n",
    "rs_023_20180424_L_df['laterality'] = 'left'\n",
    "rs_023_20180424_L_df['date'] = '2018-04-24'\n",
    "rs_023_20180424_L_df.head()\n",
    "\n",
    "# add laterality and date tags\n",
    "rs_023_20180424_R_df['laterality'] = 'right'\n",
    "rs_023_20180424_R_df['date'] = '2018-04-24'\n",
    "rs_023_20180424_R_df.head()\n",
    "\n",
    "rs_023_20180426_L_df['laterality'] = 'left'\n",
    "rs_023_20180426_L_df['date'] = '2018-04-26'\n",
    "\n",
    "rs_023_20180426_R_df['laterality'] = 'right'\n",
    "rs_023_20180426_R_df['date'] = '2018-04-26'\n",
    "\n",
    "rs_023_20180430_L_df['laterality'] = 'left'\n",
    "rs_023_20180430_L_df['date'] = '2018-04-30'\n",
    "\n",
    "rs_023_20180430_R_df['laterality'] = 'right'\n",
    "rs_023_20180430_R_df['date'] = '2018-04-30'\n",
    "\n",
    "rs_023_df = pd.concat([rs_023_20180424_L_df, rs_023_20180424_R_df,\n",
    "                       rs_023_20180426_L_df, rs_023_20180426_R_df,\n",
    "                       rs_023_20180430_L_df, rs_023_20180430_R_df])\n",
    "\n",
    "# add other metrics to dataframe\n",
    "rs_023_df['injury_status'] = 'healthy'\n",
    "rs_023_df['subject_id'] = '023'"
   ]
  },
  {
   "cell_type": "markdown",
   "metadata": {},
   "source": [
    "20501, RS027, ERLLP"
   ]
  },
  {
   "cell_type": "code",
   "execution_count": 14,
   "metadata": {},
   "outputs": [],
   "source": [
    "# read in csv's\n",
    "rs_027_20180526_L_df = pd.read_csv(\"data/outdoor/027_L_20180526.csv\")\n",
    "rs_027_20180526_R_df = pd.read_csv(\"data/outdoor/027_R_20180526.csv\")\n",
    "rs_027_20180528_L_df = pd.read_csv(\"data/outdoor/027_L_20180528.csv\")\n",
    "rs_027_20180528_R_df = pd.read_csv(\"data/outdoor/027_R_20180528.csv\")\n",
    "rs_027_20180528_L_df = pd.read_csv(\"data/outdoor/027_L_20180528.csv\")\n",
    "rs_027_20180528_R_df = pd.read_csv(\"data/outdoor/027_R_20180528.csv\")\n",
    "rs_027_20180531_L_df = pd.read_csv(\"data/outdoor/027_L_20180531.csv\")\n",
    "rs_027_20180531_R_df = pd.read_csv(\"data/outdoor/027_R_20180531.csv\")\n",
    "rs_027_20180604_L_df = pd.read_csv(\"data/outdoor/027_L_20180604.csv\")\n",
    "rs_027_20180604_R_df = pd.read_csv(\"data/outdoor/027_R_20180604.csv\")\n",
    "\n",
    "# add laterality and date tags\n",
    "rs_027_20180526_L_df['laterality'] = 'left'\n",
    "rs_027_20180526_L_df['date'] = '2018-05-26'\n",
    "rs_027_20180526_L_df.head()\n",
    "\n",
    "rs_027_20180526_R_df['laterality'] = 'right'\n",
    "rs_027_20180526_R_df['date'] = '2018-05-26'\n",
    "rs_027_20180526_R_df.head()\n",
    "\n",
    "rs_027_20180528_L_df['laterality'] = 'left'\n",
    "rs_027_20180528_L_df['date'] = '2018-05-28'\n",
    "\n",
    "rs_027_20180528_R_df['laterality'] = 'right'\n",
    "rs_027_20180528_R_df['date'] = '2018-05-28'\n",
    "\n",
    "rs_027_20180531_L_df['laterality'] = 'left'\n",
    "rs_027_20180531_L_df['date'] = '2018-05-31'\n",
    "\n",
    "rs_027_20180531_R_df['laterality'] = 'right'\n",
    "rs_027_20180531_R_df['date'] = '2018-05-31'\n",
    "\n",
    "rs_027_20180604_L_df['laterality'] = 'left'\n",
    "rs_027_20180604_L_df['date'] = '2018-06-04'\n",
    "\n",
    "rs_027_20180604_R_df['laterality'] = 'right'\n",
    "rs_027_20180604_R_df['date'] = '2018-06-04'\n",
    "\n",
    "# merge dataframes\n",
    "rs_027_df = pd.concat([rs_027_20180526_L_df, rs_027_20180526_R_df,\n",
    "                       rs_027_20180528_L_df, rs_027_20180528_R_df,\n",
    "                       rs_027_20180531_L_df, rs_027_20180531_R_df,\n",
    "                       rs_027_20180604_L_df, rs_027_20180604_R_df])\n",
    "\n",
    "# add other metrics to dataframe\n",
    "rs_027_df['injury_status'] = 'erllp'\n",
    "rs_027_df['subject_id'] = '027'"
   ]
  },
  {
   "cell_type": "code",
   "execution_count": 16,
   "metadata": {},
   "outputs": [],
   "source": [
    "outdoor_df = pd.concat([rs_004_df, rs_012_df, \n",
    "                        rs_016_df, rs_023_df,\n",
    "                        rs_027_df], sort = True)\n",
    "\n",
    "outdoor_df['medium'] = 'outdoor'\n",
    "\n",
    "# Export to csv\n",
    "outdoor_df.to_csv(\"output/outdoor_df.csv\", index = False)"
   ]
  },
  {
   "cell_type": "code",
   "execution_count": 19,
   "metadata": {},
   "outputs": [],
   "source": [
    "full = pd.concat([treadmill_df, outdoor_df], sort = True)\n",
    "\n",
    "full.to_csv(\"output/full_dataset.csv\", index = False)"
   ]
  },
  {
   "cell_type": "code",
   "execution_count": null,
   "metadata": {},
   "outputs": [],
   "source": []
  }
 ],
 "metadata": {
  "kernelspec": {
   "display_name": "Python 3",
   "language": "python",
   "name": "python3"
  },
  "language_info": {
   "codemirror_mode": {
    "name": "ipython",
    "version": 3
   },
   "file_extension": ".py",
   "mimetype": "text/x-python",
   "name": "python",
   "nbconvert_exporter": "python",
   "pygments_lexer": "ipython3",
   "version": "3.7.3"
  }
 },
 "nbformat": 4,
 "nbformat_minor": 2
}
